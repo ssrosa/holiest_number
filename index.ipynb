{
 "cells": [
  {
   "cell_type": "code",
   "execution_count": null,
   "metadata": {},
   "outputs": [],
   "source": []
  },
  {
   "cell_type": "markdown",
   "metadata": {},
   "source": [
    "<a id = 'top'></a>"
   ]
  },
  {
   "cell_type": "markdown",
   "metadata": {},
   "source": [
    "# Ten Is the Holiest Number\n",
    "## Zeno and the problem of commensurability in Pythagoran mathematics\n",
    "\n",
    "- [Tetractys](#tetractys)\n",
    "- [The Dichotomy](#dichotomy)\n",
    "- [The Race](#race)\n",
    "- [The Arrow](#arrow)"
   ]
  },
  {
   "cell_type": "code",
   "execution_count": 1,
   "metadata": {},
   "outputs": [],
   "source": [
    "import pandas\n",
    "import matplotlib.pyplot as plt\n",
    "import numpy as np\n",
    "import networkx as nx\n",
    "import math"
   ]
  },
  {
   "cell_type": "markdown",
   "metadata": {},
   "source": [
    "<a id = 'tetractys'></a>"
   ]
  },
  {
   "cell_type": "markdown",
   "metadata": {},
   "source": [
    "[(Back to top)](#top)\n",
    "\n",
    "# The Tetractys"
   ]
  },
  {
   "cell_type": "code",
   "execution_count": null,
   "metadata": {},
   "outputs": [],
   "source": [
    "# Create an empty graph object with no nodes and edges.\n",
    "G = nx.Graph()\n",
    "\n",
    "# Add a few nodes to the network above using different data types\n",
    "G.add_node(1)\n",
    "G.add_node('one')\n",
    "G.add_node(3)\n",
    "G.add_node('second')\n",
    "\n",
    "\n",
    "G.add_node(math.cos)\n",
    "\n",
    "# View network nodes\n",
    "G.nodes()\n",
    "\n",
    "# Add nodes from list\n",
    "list_of_nodes = [2, 3, 'node4']\n",
    "G.add_nodes_from(list_of_nodes)\n",
    "G.nodes()\n",
    "\n",
    "H = nx.path_graph(7)\n",
    "print(H.nodes())\n",
    "\n",
    "# Add nodes from a path graph\n",
    "G.add_nodes_from(H)\n",
    "print(G.nodes())\n",
    "\n",
    "# Add edges to graph nodes\n",
    "G.add_edge(0, 'second')\n",
    "G.add_edge(2, 3)\n",
    "G.add_edge('second', 'node4')\n",
    "G.add_edge(0, 'node4')\n",
    "\n",
    "# Add edges from a list\n",
    "list_of_edges = [(2, 3), (4, 5), ('node4', 2)]\n",
    "G.add_edges_from(list_of_edges)\n",
    "\n",
    "# View edges\n",
    "print(G.edges())\n",
    "\n",
    "# Inspect number of nodes \n",
    "print(G.number_of_nodes(), len(G), len(G.nodes()))\n",
    "\n",
    "# Inspect number of edges\n",
    "print(G.number_of_edges(), len(G.edges()))\n",
    "\n",
    "# Visualize the network\n",
    "nx.draw(G)\n",
    "\n",
    "# Visualize the network with labels \n",
    "nx.draw(G, with_labels = True )\n",
    "\n",
    "# Remove node from a network \n",
    "print(G.nodes())\n",
    "G.remove_node(0)\n",
    "print(G.nodes())\n",
    "\n",
    "# Remove edge from a network \n",
    "print(G.edges())\n",
    "G.remove_edge('second', 'node4')\n",
    "print(G.edges())\n",
    "\n",
    "# Clear a network \n",
    "G.clear()\n",
    "print(G.nodes(), G.edges())\n",
    "\n",
    "G.node[0]['name'] = 'pizza'\n",
    "G.node[1]['name'] = 'mac and cheese'\n",
    "G.node[2]['name'] = 'balogna sandwich'\n",
    "G.node[3]['name'] = 'pizza'\n",
    "nx.get_node_attributes(G,'name')\n",
    "nx.draw(G,labels=nx.get_node_attributes(G,'name'),node_size=5000)\n",
    "\n",
    "# Add attributes to graph from a list \n",
    "prices = [3,5,2,7,5,6,2,4,9,12]\n",
    "for i in range(10):\n",
    "    G.node[i]['price'] = prices[i]\n",
    "print(G.nodes('name'))\n",
    "print(G.nodes('price'))\n",
    "\n",
    "# Add edge Attributes\n",
    "G.add_edge(1, 5, weight=4.7)\n",
    "G[1][2]['weight'] = 5.6\n",
    "\n",
    "print(G[1][5]['weight'])\n",
    "print(G[1][2]['weight'])\n",
    "\n",
    "# Add edge from method\n",
    "\n",
    "G.add_edges_from([(3, 4), (4, 5)], color='red')\n",
    "G.add_edges_from([(1, 2, {'color': 'blue'}), (2, 3, {'weight': 8})])\n",
    "print(G[2][3]['weight'])\n",
    "print(G[3][4]['color'])\n",
    "print(G[4][5]['color'])\n",
    "print(G[1][2]['color'])\n",
    "print(G[1][2]) # All edge attributes"
   ]
  },
  {
   "cell_type": "code",
   "execution_count": null,
   "metadata": {},
   "outputs": [],
   "source": []
  },
  {
   "cell_type": "code",
   "execution_count": null,
   "metadata": {},
   "outputs": [],
   "source": [
    "1 ** 2 + side ** 2 = 2 **2\n",
    "1 + side ** 2 = 4\n",
    "side ** 2 = 3\n"
   ]
  },
  {
   "cell_type": "code",
   "execution_count": 8,
   "metadata": {},
   "outputs": [
    {
     "data": {
      "image/png": "[encoded data removed]",
      "text/plain": [
       "<Figure size 576x432 with 1 Axes>"
      ]
     },
     "metadata": {},
     "output_type": "display_data"
    }
   ],
   "source": [
    "#Third dimension (pyramid)\n",
    "fig = plt.figure(figsize = (8, 6))\n",
    "#The final number for the drawing. (Standard is 10.)\n",
    "limit = 4\n",
    "\n",
    "# Create an empty graph object with no nodes and edges.\n",
    "G = nx.Graph()\n",
    "\n",
    "G.add_nodes_from(np.arange(1, limit + 1))\n",
    "G.add_edges_from([(1,2), (2,3), (3,4), (4,1), (3,1)])\n",
    "\n",
    "#nx.get_node_attributes(G,'name')\n",
    "#nx.draw(G,labels=nx.get_node_attributes(G,'name'),node_size=5000)\n",
    "nx.draw(G, with_labels = True, node_size = 2250, node_color = 'gold', alpha = 0.7, edge_color = 'gray', pos = pos)"
   ]
  },
  {
   "cell_type": "code",
   "execution_count": 2,
   "metadata": {},
   "outputs": [],
   "source": [
    "def tetractys_edges(limit):\n",
    "    #Numbers 1 through 10\n",
    "    numbers = list(np.arange(1, limit + 1))\n",
    "    #Put numbers into rows: 1; 2, 3; 4, 5, 6; 7, 8, 9, 10\n",
    "    rows = []\n",
    "    count = 1\n",
    "    while numbers:\n",
    "        rows.append([numbers.pop(0) for n_times in range(count)])\n",
    "        count += 1\n",
    "    #Create edges between the numbers in each row\n",
    "    edges = [(num, row[i + 1]) for row in rows[1:] for i, num in enumerate(row[:-1])]\n",
    "    #Create first edge between each number and the number in the row below it\n",
    "    edges.extend([(num, rows[i + 1][j]) for i, row in enumerate(rows[:-1]) for j, num in enumerate(row)])\n",
    "    #Create second edge between each number adn the number in the row below it\n",
    "    edges.extend([(num, rows[i + 1][j + 1]) for i, row in enumerate(rows[:-1]) for j, num in enumerate(row)])\n",
    "    \n",
    "    #Now create dictionary of positions for nodes\n",
    "    x = 0\n",
    "    y = 0\n",
    "    v = np.sqrt(3) # To draw equilateral triangles with sides of length 2\n",
    "    pos = {}\n",
    "    for i in range(1, len(rows) + 1):\n",
    "        for num in rows[-i]:\n",
    "            pos[num] = (x, y)\n",
    "            x += 2\n",
    "        x = i #Reset x\n",
    "        y += v\n",
    "    \n",
    "    return edges, pos"
   ]
  },
  {
   "cell_type": "code",
   "execution_count": 4,
   "metadata": {
    "scrolled": false
   },
   "outputs": [
    {
     "data": {
      "image/png": "[encoded data removed]",
      "text/plain": [
       "<Figure size 576x432 with 1 Axes>"
      ]
     },
     "metadata": {},
     "output_type": "display_data"
    }
   ],
   "source": [
    "fig = plt.figure(figsize = (8, 6))\n",
    "#The final number for the drawing. (Standard is 10.)\n",
    "limit = 10\n",
    "#Create a list of edges as tuples for the range(limit + 1)\n",
    "edges, pos = tetractys_edges(limit)\n",
    "\n",
    "# Create an empty graph object with no nodes and edges.\n",
    "G = nx.Graph()\n",
    "\n",
    "G.add_nodes_from(np.arange(1, limit + 1))\n",
    "G.add_edges_from(edges)\n",
    "\n",
    "#nx.get_node_attributes(G,'name')\n",
    "#nx.draw(G,labels=nx.get_node_attributes(G,'name'),node_size=5000)\n",
    "nx.draw(G, with_labels = True, node_size = 2250, node_color = 'gold', alpha = 0.7, edge_color = 'gray', pos = pos)"
   ]
  },
  {
   "cell_type": "code",
   "execution_count": 66,
   "metadata": {},
   "outputs": [
    {
     "data": {
      "text/plain": [
       "{1: (3, 5.196152422706632),\n",
       " 2: (2, 3.4641016151377544),\n",
       " 3: (4, 3.4641016151377544),\n",
       " 4: (1, 1.7320508075688772),\n",
       " 5: (3, 1.7320508075688772),\n",
       " 6: (5, 1.7320508075688772),\n",
       " 7: (0, 0.0),\n",
       " 8: (2, 0.0),\n",
       " 9: (4, 0.0),\n",
       " 10: (6, 0.0)}"
      ]
     },
     "execution_count": 66,
     "metadata": {},
     "output_type": "execute_result"
    }
   ],
   "source": [
    "pos"
   ]
  },
  {
   "cell_type": "code",
   "execution_count": 41,
   "metadata": {},
   "outputs": [
    {
     "data": {
      "image/png": "[encoded data removed]",
      "text/plain": [
       "<Figure size 432x288 with 1 Axes>"
      ]
     },
     "metadata": {},
     "output_type": "display_data"
    }
   ],
   "source": [
    "#nx.get_node_attributes(G,'name')\n",
    "#nx.draw(G,labels=nx.get_node_attributes(G,'name'),node_size=5000)\n",
    "\n",
    "G = nx.Graph()\n",
    "G.add_nodes_from(one)\n",
    "G.node[1]['number'] = 'one'\n",
    "#for node in one:\n",
    "#    G.node[node]['number'] = 'one' for node in one\n",
    "#G.add_nodes_from(two)\n",
    "#for node in two:\n",
    "#    G.node[node]['number'] = 'one'\n",
    "G.add_nodes_from(three)\n",
    "G.add_nodes_from(four)\n",
    "#G.add_edges_from(two_edges, three_edges, four_edges)\n",
    "names = nx.get_node_attributes(G, 'name')\n",
    "numbers = nx.get_node_attributes(G, 'number')\n",
    "nx.draw(G, labels = numbers, node_size = 5000)"
   ]
  },
  {
   "cell_type": "code",
   "execution_count": 28,
   "metadata": {},
   "outputs": [
    {
     "ename": "SyntaxError",
     "evalue": "invalid syntax (<ipython-input-28-88079f1775b4>, line 1)",
     "output_type": "error",
     "traceback": [
      "\u001b[0;36m  File \u001b[0;32m\"<ipython-input-28-88079f1775b4>\"\u001b[0;36m, line \u001b[0;32m1\u001b[0m\n\u001b[0;31m    [G.node[this_node]['number'] = 'one' for this_node in one]\u001b[0m\n\u001b[0m                                 ^\u001b[0m\n\u001b[0;31mSyntaxError\u001b[0m\u001b[0;31m:\u001b[0m invalid syntax\n"
     ]
    }
   ],
   "source": [
    "[G.node[this_node]['number'] = 'one' for this_node in one]"
   ]
  },
  {
   "cell_type": "code",
   "execution_count": 40,
   "metadata": {},
   "outputs": [
    {
     "data": {
      "text/plain": [
       "{}"
      ]
     },
     "execution_count": 40,
     "metadata": {},
     "output_type": "execute_result"
    }
   ],
   "source": [
    "names = nx.get_node_attributes(G, 'name')\n",
    "names"
   ]
  },
  {
   "cell_type": "code",
   "execution_count": null,
   "metadata": {},
   "outputs": [],
   "source": []
  },
  {
   "cell_type": "code",
   "execution_count": 30,
   "metadata": {},
   "outputs": [],
   "source": [
    "G.node[1]['number'] = 'one'"
   ]
  },
  {
   "cell_type": "code",
   "execution_count": 31,
   "metadata": {},
   "outputs": [],
   "source": [
    "for this_node in one:\n",
    "    G.node[this_node]['number'] = 'one'"
   ]
  },
  {
   "cell_type": "code",
   "execution_count": 38,
   "metadata": {},
   "outputs": [
    {
     "name": "stdout",
     "output_type": "stream",
     "text": [
      "{}\n"
     ]
    }
   ],
   "source": [
    "test = nx.get_node_attributes(G,'name')\n",
    "print(test)"
   ]
  },
  {
   "cell_type": "code",
   "execution_count": 37,
   "metadata": {},
   "outputs": [
    {
     "data": {
      "text/plain": [
       "{}"
      ]
     },
     "execution_count": 37,
     "metadata": {},
     "output_type": "execute_result"
    }
   ],
   "source": [
    "G.node[1]"
   ]
  },
  {
   "cell_type": "markdown",
   "metadata": {},
   "source": [
    "<a id = 'dichotomy'></a>"
   ]
  },
  {
   "cell_type": "markdown",
   "metadata": {},
   "source": [
    "[(Back to top)](#top)\n",
    "\n",
    "# The Dichotomy"
   ]
  },
  {
   "cell_type": "code",
   "execution_count": 2,
   "metadata": {},
   "outputs": [
    {
     "data": {
      "text/plain": [
       "[<matplotlib.lines.Line2D at 0xa17a77da0>]"
      ]
     },
     "execution_count": 2,
     "metadata": {},
     "output_type": "execute_result"
    },
    {
     "data": {
      "image/png": "[encoded data removed]",
      "text/plain": [
       "<Figure size 432x288 with 1 Axes>"
      ]
     },
     "metadata": {
      "needs_background": "light"
     },
     "output_type": "display_data"
    }
   ],
   "source": [
    "\n",
    "#1/256, 1/128, 1/64, 1/32, 1/16, 1/8, 1/2, 1\n",
    "x = np.arange(1, 11)\n",
    "y = 1 * ((1 / 2)**x)\n",
    "plt.plot(x, y)"
   ]
  },
  {
   "cell_type": "code",
   "execution_count": 53,
   "metadata": {},
   "outputs": [
    {
     "name": "stdout",
     "output_type": "stream",
     "text": [
      "[ 1  2  3  4  5  6  7  8  9 10]\n",
      "[0.5        0.25       0.125      0.0625     0.03125    0.015625\n",
      " 0.0078125  0.00390625 0.00195312 0.00097656]\n"
     ]
    }
   ],
   "source": [
    "print(x)\n",
    "print(y)"
   ]
  },
  {
   "cell_type": "code",
   "execution_count": 56,
   "metadata": {},
   "outputs": [
    {
     "data": {
      "text/plain": [
       "False"
      ]
     },
     "execution_count": 56,
     "metadata": {},
     "output_type": "execute_result"
    }
   ],
   "source": [
    "1 * ((1 / 2) ** 100) == 0"
   ]
  },
  {
   "cell_type": "code",
   "execution_count": 57,
   "metadata": {},
   "outputs": [
    {
     "data": {
      "text/plain": [
       "False"
      ]
     },
     "execution_count": 57,
     "metadata": {},
     "output_type": "execute_result"
    }
   ],
   "source": [
    "1 * ((1 / 2) ** 1000) == 0"
   ]
  },
  {
   "cell_type": "code",
   "execution_count": 36,
   "metadata": {},
   "outputs": [
    {
     "data": {
      "text/plain": [
       "5e-324"
      ]
     },
     "execution_count": 36,
     "metadata": {},
     "output_type": "execute_result"
    }
   ],
   "source": [
    "#5 × 10^-324\n",
    "1 * ((1 / 2) ** 1074)"
   ]
  },
  {
   "cell_type": "code",
   "execution_count": 60,
   "metadata": {},
   "outputs": [
    {
     "data": {
      "text/plain": [
       "True"
      ]
     },
     "execution_count": 60,
     "metadata": {},
     "output_type": "execute_result"
    }
   ],
   "source": [
    "#Exceeds the maximum precision of the program\n",
    "1 * ((1 / 2) ** 10000) == 0"
   ]
  },
  {
   "cell_type": "code",
   "execution_count": null,
   "metadata": {},
   "outputs": [],
   "source": []
  },
  {
   "cell_type": "code",
   "execution_count": null,
   "metadata": {},
   "outputs": [],
   "source": []
  },
  {
   "cell_type": "code",
   "execution_count": null,
   "metadata": {},
   "outputs": [],
   "source": []
  },
  {
   "cell_type": "code",
   "execution_count": null,
   "metadata": {},
   "outputs": [],
   "source": []
  },
  {
   "cell_type": "code",
   "execution_count": null,
   "metadata": {},
   "outputs": [],
   "source": []
  },
  {
   "cell_type": "code",
   "execution_count": null,
   "metadata": {},
   "outputs": [],
   "source": []
  },
  {
   "cell_type": "markdown",
   "metadata": {},
   "source": [
    "<a id = 'race'></a>"
   ]
  },
  {
   "cell_type": "markdown",
   "metadata": {},
   "source": [
    "[(Back to top)](#top)\n",
    "\n",
    "# The Race"
   ]
  },
  {
   "cell_type": "code",
   "execution_count": 71,
   "metadata": {},
   "outputs": [],
   "source": [
    "time_steps = np.arange(0, 11)\n",
    "tortoise_dist = [0]\n",
    "tortoise_speed = 1\n",
    "achilles_dist = [0]\n",
    "achilles_speed = 2\n",
    "#Head start\n",
    "tortoise_dist[-1] += 5\n",
    "\n",
    "#Begin the race\n",
    "for step in time_steps[1:]:\n",
    "    tortoise_dist.append(tortoise_dist[0] + (tortoise_speed * step))\n",
    "    achilles_dist.append(achilles_dist[0] + (achilles_speed * step))"
   ]
  },
  {
   "cell_type": "code",
   "execution_count": 64,
   "metadata": {},
   "outputs": [
    {
     "data": {
      "text/plain": [
       "([5, 6, 7, 8, 9, 10, 11, 12, 13, 14, 15], [0, 1, 2, 3, 4, 5, 6, 7, 8, 9, 10])"
      ]
     },
     "execution_count": 64,
     "metadata": {},
     "output_type": "execute_result"
    }
   ],
   "source": [
    "tortoise_dist, achilles_dist"
   ]
  },
  {
   "cell_type": "code",
   "execution_count": 65,
   "metadata": {},
   "outputs": [
    {
     "data": {
      "text/plain": [
       "array([ 0,  1,  2,  3,  4,  5,  6,  7,  8,  9, 10])"
      ]
     },
     "execution_count": 65,
     "metadata": {},
     "output_type": "execute_result"
    }
   ],
   "source": [
    "time_steps"
   ]
  },
  {
   "cell_type": "code",
   "execution_count": 72,
   "metadata": {},
   "outputs": [
    {
     "data": {
      "text/plain": [
       "<matplotlib.legend.Legend at 0xa1b10d710>"
      ]
     },
     "execution_count": 72,
     "metadata": {},
     "output_type": "execute_result"
    },
    {
     "data": {
      "image/png": "[encoded data removed]",
      "text/plain": [
       "<Figure size 720x432 with 1 Axes>"
      ]
     },
     "metadata": {
      "needs_background": "light"
     },
     "output_type": "display_data"
    }
   ],
   "source": [
    "fig = plt.figure(figsize = (10,6))\n",
    "plt.plot(time_steps, tortoise_dist,  '+', label = 'tortoise')\n",
    "plt.plot(time_steps, achilles_dist, '.', label = 'achilles')\n",
    "plt.ylabel('Time step')\n",
    "plt.xlabel('Distance travelled')\n",
    "plt.legend()"
   ]
  },
  {
   "cell_type": "code",
   "execution_count": null,
   "metadata": {},
   "outputs": [],
   "source": []
  },
  {
   "cell_type": "code",
   "execution_count": null,
   "metadata": {},
   "outputs": [],
   "source": []
  },
  {
   "cell_type": "code",
   "execution_count": null,
   "metadata": {},
   "outputs": [],
   "source": []
  },
  {
   "cell_type": "code",
   "execution_count": null,
   "metadata": {},
   "outputs": [],
   "source": []
  },
  {
   "cell_type": "code",
   "execution_count": null,
   "metadata": {},
   "outputs": [],
   "source": []
  },
  {
   "cell_type": "markdown",
   "metadata": {},
   "source": [
    "<a id = 'arrow'></a>"
   ]
  },
  {
   "cell_type": "markdown",
   "metadata": {},
   "source": [
    "[(Back to top)](#top)\n",
    "\n",
    "# The Arrow"
   ]
  },
  {
   "cell_type": "code",
   "execution_count": null,
   "metadata": {},
   "outputs": [],
   "source": []
  },
  {
   "cell_type": "code",
   "execution_count": null,
   "metadata": {},
   "outputs": [],
   "source": []
  },
  {
   "cell_type": "code",
   "execution_count": null,
   "metadata": {},
   "outputs": [],
   "source": []
  },
  {
   "cell_type": "code",
   "execution_count": null,
   "metadata": {},
   "outputs": [],
   "source": []
  },
  {
   "cell_type": "code",
   "execution_count": null,
   "metadata": {},
   "outputs": [],
   "source": []
  },
  {
   "cell_type": "code",
   "execution_count": null,
   "metadata": {},
   "outputs": [],
   "source": []
  },
  {
   "cell_type": "code",
   "execution_count": null,
   "metadata": {},
   "outputs": [],
   "source": []
  }
 ],
 "metadata": {
  "kernelspec": {
   "display_name": "learn-env",
   "language": "python",
   "name": "learn-env"
  },
  "language_info": {
   "codemirror_mode": {
    "name": "ipython",
    "version": 3
   },
   "file_extension": ".py",
   "mimetype": "text/x-python",
   "name": "python",
   "nbconvert_exporter": "python",
   "pygments_lexer": "ipython3",
   "version": "3.7.0"
  }
 },
 "nbformat": 4,
 "nbformat_minor": 2
}
